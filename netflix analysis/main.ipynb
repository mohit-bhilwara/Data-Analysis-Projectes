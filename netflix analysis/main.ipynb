{
 "cells": [
  {
   "cell_type": "markdown",
   "id": "a9da596a",
   "metadata": {},
   "source": [
    "# Netflix Data Analysis"
   ]
  },
  {
   "cell_type": "code",
   "execution_count": 1,
   "id": "3b4819e2",
   "metadata": {},
   "outputs": [],
   "source": [
    "import pandas as pd\n",
    "import numpy as np\n",
    "import matplotlib.pyplot as plt\n",
    "import seaborn as sns"
   ]
  },
  {
   "cell_type": "code",
   "execution_count": 2,
   "id": "81ba34bb",
   "metadata": {},
   "outputs": [],
   "source": [
    "data_df = pd.read_csv('titles.csv/titles.csv')"
   ]
  },
  {
   "cell_type": "code",
   "execution_count": 3,
   "id": "a75d5e4e",
   "metadata": {},
   "outputs": [
    {
     "data": {
      "text/html": [
       "<div>\n",
       "<style scoped>\n",
       "    .dataframe tbody tr th:only-of-type {\n",
       "        vertical-align: middle;\n",
       "    }\n",
       "\n",
       "    .dataframe tbody tr th {\n",
       "        vertical-align: top;\n",
       "    }\n",
       "\n",
       "    .dataframe thead th {\n",
       "        text-align: right;\n",
       "    }\n",
       "</style>\n",
       "<table border=\"1\" class=\"dataframe\">\n",
       "  <thead>\n",
       "    <tr style=\"text-align: right;\">\n",
       "      <th></th>\n",
       "      <th>id</th>\n",
       "      <th>title</th>\n",
       "      <th>type</th>\n",
       "      <th>description</th>\n",
       "      <th>release_year</th>\n",
       "      <th>age_certification</th>\n",
       "      <th>runtime</th>\n",
       "      <th>genres</th>\n",
       "      <th>production_countries</th>\n",
       "      <th>seasons</th>\n",
       "      <th>imdb_id</th>\n",
       "      <th>imdb_score</th>\n",
       "      <th>imdb_votes</th>\n",
       "      <th>tmdb_popularity</th>\n",
       "      <th>tmdb_score</th>\n",
       "    </tr>\n",
       "  </thead>\n",
       "  <tbody>\n",
       "    <tr>\n",
       "      <th>0</th>\n",
       "      <td>ts300399</td>\n",
       "      <td>Five Came Back: The Reference Films</td>\n",
       "      <td>SHOW</td>\n",
       "      <td>This collection includes 12 World War II-era p...</td>\n",
       "      <td>1945</td>\n",
       "      <td>TV-MA</td>\n",
       "      <td>48</td>\n",
       "      <td>['documentation']</td>\n",
       "      <td>['US']</td>\n",
       "      <td>1.0</td>\n",
       "      <td>NaN</td>\n",
       "      <td>NaN</td>\n",
       "      <td>NaN</td>\n",
       "      <td>0.600</td>\n",
       "      <td>NaN</td>\n",
       "    </tr>\n",
       "    <tr>\n",
       "      <th>1</th>\n",
       "      <td>tm84618</td>\n",
       "      <td>Taxi Driver</td>\n",
       "      <td>MOVIE</td>\n",
       "      <td>A mentally unstable Vietnam War veteran works ...</td>\n",
       "      <td>1976</td>\n",
       "      <td>R</td>\n",
       "      <td>113</td>\n",
       "      <td>['crime', 'drama']</td>\n",
       "      <td>['US']</td>\n",
       "      <td>NaN</td>\n",
       "      <td>tt0075314</td>\n",
       "      <td>8.3</td>\n",
       "      <td>795222.0</td>\n",
       "      <td>27.612</td>\n",
       "      <td>8.2</td>\n",
       "    </tr>\n",
       "    <tr>\n",
       "      <th>2</th>\n",
       "      <td>tm127384</td>\n",
       "      <td>Monty Python and the Holy Grail</td>\n",
       "      <td>MOVIE</td>\n",
       "      <td>King Arthur, accompanied by his squire, recrui...</td>\n",
       "      <td>1975</td>\n",
       "      <td>PG</td>\n",
       "      <td>91</td>\n",
       "      <td>['comedy', 'fantasy']</td>\n",
       "      <td>['GB']</td>\n",
       "      <td>NaN</td>\n",
       "      <td>tt0071853</td>\n",
       "      <td>8.2</td>\n",
       "      <td>530877.0</td>\n",
       "      <td>18.216</td>\n",
       "      <td>7.8</td>\n",
       "    </tr>\n",
       "    <tr>\n",
       "      <th>3</th>\n",
       "      <td>tm70993</td>\n",
       "      <td>Life of Brian</td>\n",
       "      <td>MOVIE</td>\n",
       "      <td>Brian Cohen is an average young Jewish man, bu...</td>\n",
       "      <td>1979</td>\n",
       "      <td>R</td>\n",
       "      <td>94</td>\n",
       "      <td>['comedy']</td>\n",
       "      <td>['GB']</td>\n",
       "      <td>NaN</td>\n",
       "      <td>tt0079470</td>\n",
       "      <td>8.0</td>\n",
       "      <td>392419.0</td>\n",
       "      <td>17.505</td>\n",
       "      <td>7.8</td>\n",
       "    </tr>\n",
       "    <tr>\n",
       "      <th>4</th>\n",
       "      <td>tm190788</td>\n",
       "      <td>The Exorcist</td>\n",
       "      <td>MOVIE</td>\n",
       "      <td>12-year-old Regan MacNeil begins to adapt an e...</td>\n",
       "      <td>1973</td>\n",
       "      <td>R</td>\n",
       "      <td>133</td>\n",
       "      <td>['horror']</td>\n",
       "      <td>['US']</td>\n",
       "      <td>NaN</td>\n",
       "      <td>tt0070047</td>\n",
       "      <td>8.1</td>\n",
       "      <td>391942.0</td>\n",
       "      <td>95.337</td>\n",
       "      <td>7.7</td>\n",
       "    </tr>\n",
       "  </tbody>\n",
       "</table>\n",
       "</div>"
      ],
      "text/plain": [
       "         id                                title   type  \\\n",
       "0  ts300399  Five Came Back: The Reference Films   SHOW   \n",
       "1   tm84618                          Taxi Driver  MOVIE   \n",
       "2  tm127384      Monty Python and the Holy Grail  MOVIE   \n",
       "3   tm70993                        Life of Brian  MOVIE   \n",
       "4  tm190788                         The Exorcist  MOVIE   \n",
       "\n",
       "                                         description  release_year  \\\n",
       "0  This collection includes 12 World War II-era p...          1945   \n",
       "1  A mentally unstable Vietnam War veteran works ...          1976   \n",
       "2  King Arthur, accompanied by his squire, recrui...          1975   \n",
       "3  Brian Cohen is an average young Jewish man, bu...          1979   \n",
       "4  12-year-old Regan MacNeil begins to adapt an e...          1973   \n",
       "\n",
       "  age_certification  runtime                 genres production_countries  \\\n",
       "0             TV-MA       48      ['documentation']               ['US']   \n",
       "1                 R      113     ['crime', 'drama']               ['US']   \n",
       "2                PG       91  ['comedy', 'fantasy']               ['GB']   \n",
       "3                 R       94             ['comedy']               ['GB']   \n",
       "4                 R      133             ['horror']               ['US']   \n",
       "\n",
       "   seasons    imdb_id  imdb_score  imdb_votes  tmdb_popularity  tmdb_score  \n",
       "0      1.0        NaN         NaN         NaN            0.600         NaN  \n",
       "1      NaN  tt0075314         8.3    795222.0           27.612         8.2  \n",
       "2      NaN  tt0071853         8.2    530877.0           18.216         7.8  \n",
       "3      NaN  tt0079470         8.0    392419.0           17.505         7.8  \n",
       "4      NaN  tt0070047         8.1    391942.0           95.337         7.7  "
      ]
     },
     "execution_count": 3,
     "metadata": {},
     "output_type": "execute_result"
    }
   ],
   "source": [
    "data_df.head()"
   ]
  },
  {
   "cell_type": "code",
   "execution_count": 4,
   "id": "af23c802",
   "metadata": {},
   "outputs": [
    {
     "name": "stdout",
     "output_type": "stream",
     "text": [
      "<class 'pandas.core.frame.DataFrame'>\n",
      "RangeIndex: 5806 entries, 0 to 5805\n",
      "Data columns (total 15 columns):\n",
      " #   Column                Non-Null Count  Dtype  \n",
      "---  ------                --------------  -----  \n",
      " 0   id                    5806 non-null   object \n",
      " 1   title                 5805 non-null   object \n",
      " 2   type                  5806 non-null   object \n",
      " 3   description           5788 non-null   object \n",
      " 4   release_year          5806 non-null   int64  \n",
      " 5   age_certification     3196 non-null   object \n",
      " 6   runtime               5806 non-null   int64  \n",
      " 7   genres                5806 non-null   object \n",
      " 8   production_countries  5806 non-null   object \n",
      " 9   seasons               2047 non-null   float64\n",
      " 10  imdb_id               5362 non-null   object \n",
      " 11  imdb_score            5283 non-null   float64\n",
      " 12  imdb_votes            5267 non-null   float64\n",
      " 13  tmdb_popularity       5712 non-null   float64\n",
      " 14  tmdb_score            5488 non-null   float64\n",
      "dtypes: float64(5), int64(2), object(8)\n",
      "memory usage: 680.5+ KB\n"
     ]
    }
   ],
   "source": [
    "data_df.info()"
   ]
  },
  {
   "cell_type": "code",
   "execution_count": 5,
   "id": "7649d7ae",
   "metadata": {},
   "outputs": [
    {
     "data": {
      "text/plain": [
       "id                         0\n",
       "title                      1\n",
       "type                       0\n",
       "description               18\n",
       "release_year               0\n",
       "age_certification       2610\n",
       "runtime                    0\n",
       "genres                     0\n",
       "production_countries       0\n",
       "seasons                 3759\n",
       "imdb_id                  444\n",
       "imdb_score               523\n",
       "imdb_votes               539\n",
       "tmdb_popularity           94\n",
       "tmdb_score               318\n",
       "dtype: int64"
      ]
     },
     "execution_count": 5,
     "metadata": {},
     "output_type": "execute_result"
    }
   ],
   "source": [
    "data_df.isnull().sum()"
   ]
  },
  {
   "cell_type": "code",
   "execution_count": 6,
   "id": "9a3bdc27",
   "metadata": {},
   "outputs": [
    {
     "data": {
      "text/html": [
       "<div>\n",
       "<style scoped>\n",
       "    .dataframe tbody tr th:only-of-type {\n",
       "        vertical-align: middle;\n",
       "    }\n",
       "\n",
       "    .dataframe tbody tr th {\n",
       "        vertical-align: top;\n",
       "    }\n",
       "\n",
       "    .dataframe thead th {\n",
       "        text-align: right;\n",
       "    }\n",
       "</style>\n",
       "<table border=\"1\" class=\"dataframe\">\n",
       "  <thead>\n",
       "    <tr style=\"text-align: right;\">\n",
       "      <th></th>\n",
       "      <th>count</th>\n",
       "      <th>mean</th>\n",
       "      <th>std</th>\n",
       "      <th>min</th>\n",
       "      <th>25%</th>\n",
       "      <th>50%</th>\n",
       "      <th>75%</th>\n",
       "      <th>max</th>\n",
       "    </tr>\n",
       "  </thead>\n",
       "  <tbody>\n",
       "    <tr>\n",
       "      <th>release_year</th>\n",
       "      <td>5806.0</td>\n",
       "      <td>2016.013434</td>\n",
       "      <td>7.324883</td>\n",
       "      <td>1945.000000</td>\n",
       "      <td>2015.00000</td>\n",
       "      <td>2018.000</td>\n",
       "      <td>2020.00000</td>\n",
       "      <td>2022.000</td>\n",
       "    </tr>\n",
       "    <tr>\n",
       "      <th>runtime</th>\n",
       "      <td>5806.0</td>\n",
       "      <td>77.643989</td>\n",
       "      <td>39.474160</td>\n",
       "      <td>0.000000</td>\n",
       "      <td>44.00000</td>\n",
       "      <td>84.000</td>\n",
       "      <td>105.00000</td>\n",
       "      <td>251.000</td>\n",
       "    </tr>\n",
       "    <tr>\n",
       "      <th>seasons</th>\n",
       "      <td>2047.0</td>\n",
       "      <td>2.165608</td>\n",
       "      <td>2.636207</td>\n",
       "      <td>1.000000</td>\n",
       "      <td>1.00000</td>\n",
       "      <td>1.000</td>\n",
       "      <td>2.00000</td>\n",
       "      <td>42.000</td>\n",
       "    </tr>\n",
       "    <tr>\n",
       "      <th>imdb_score</th>\n",
       "      <td>5283.0</td>\n",
       "      <td>6.533447</td>\n",
       "      <td>1.160932</td>\n",
       "      <td>1.500000</td>\n",
       "      <td>5.80000</td>\n",
       "      <td>6.600</td>\n",
       "      <td>7.40000</td>\n",
       "      <td>9.600</td>\n",
       "    </tr>\n",
       "    <tr>\n",
       "      <th>imdb_votes</th>\n",
       "      <td>5267.0</td>\n",
       "      <td>23407.194988</td>\n",
       "      <td>87134.315849</td>\n",
       "      <td>5.000000</td>\n",
       "      <td>521.00000</td>\n",
       "      <td>2279.000</td>\n",
       "      <td>10144.00000</td>\n",
       "      <td>2268288.000</td>\n",
       "    </tr>\n",
       "    <tr>\n",
       "      <th>tmdb_popularity</th>\n",
       "      <td>5712.0</td>\n",
       "      <td>22.525660</td>\n",
       "      <td>68.849177</td>\n",
       "      <td>0.009442</td>\n",
       "      <td>3.15525</td>\n",
       "      <td>7.478</td>\n",
       "      <td>17.77575</td>\n",
       "      <td>1823.374</td>\n",
       "    </tr>\n",
       "    <tr>\n",
       "      <th>tmdb_score</th>\n",
       "      <td>5488.0</td>\n",
       "      <td>6.818039</td>\n",
       "      <td>1.171560</td>\n",
       "      <td>0.500000</td>\n",
       "      <td>6.10000</td>\n",
       "      <td>6.900</td>\n",
       "      <td>7.50000</td>\n",
       "      <td>10.000</td>\n",
       "    </tr>\n",
       "  </tbody>\n",
       "</table>\n",
       "</div>"
      ],
      "text/plain": [
       "                  count          mean           std          min         25%  \\\n",
       "release_year     5806.0   2016.013434      7.324883  1945.000000  2015.00000   \n",
       "runtime          5806.0     77.643989     39.474160     0.000000    44.00000   \n",
       "seasons          2047.0      2.165608      2.636207     1.000000     1.00000   \n",
       "imdb_score       5283.0      6.533447      1.160932     1.500000     5.80000   \n",
       "imdb_votes       5267.0  23407.194988  87134.315849     5.000000   521.00000   \n",
       "tmdb_popularity  5712.0     22.525660     68.849177     0.009442     3.15525   \n",
       "tmdb_score       5488.0      6.818039      1.171560     0.500000     6.10000   \n",
       "\n",
       "                      50%          75%          max  \n",
       "release_year     2018.000   2020.00000     2022.000  \n",
       "runtime            84.000    105.00000      251.000  \n",
       "seasons             1.000      2.00000       42.000  \n",
       "imdb_score          6.600      7.40000        9.600  \n",
       "imdb_votes       2279.000  10144.00000  2268288.000  \n",
       "tmdb_popularity     7.478     17.77575     1823.374  \n",
       "tmdb_score          6.900      7.50000       10.000  "
      ]
     },
     "execution_count": 6,
     "metadata": {},
     "output_type": "execute_result"
    }
   ],
   "source": [
    "data_df.describe().transpose()"
   ]
  },
  {
   "cell_type": "markdown",
   "id": "374a524d",
   "metadata": {},
   "source": [
    "# EDA Task:\n",
    "\n",
    "1. How many movies are in the dataset and list the titles?\n",
    "2. How many show are in the dataset and list the titles?\n",
    "3. Plot the distribution of movies/shows\n",
    "4. How many movies/shows are released each year?\n",
    "5. How many moveis was released in 1976?\n",
    "6. How many shows was released in 1945?\n",
    "7. Which Movies is the longest and which one is the shortest?\n",
    "8. Which Show is the longest and which is the shortest?\n",
    "9. List the unique genres in the dataset\n",
    "10. Which Show has the longes season?\n",
    "11. plot imdb_score vs tmdb_score\n",
    "12. plot tmdb_score vs tmdb_score_popularity\n",
    "13. plot imdb_score vs imdb_votes\n"
   ]
  },
  {
   "cell_type": "markdown",
   "id": "b598aec3",
   "metadata": {},
   "source": [
    "# 1. How many movies are in the dataset and list the titles?"
   ]
  },
  {
   "cell_type": "code",
   "execution_count": 7,
   "id": "9a337e29",
   "metadata": {},
   "outputs": [
    {
     "data": {
      "text/plain": [
       "1                           Taxi Driver\n",
       "2       Monty Python and the Holy Grail\n",
       "3                         Life of Brian\n",
       "4                          The Exorcist\n",
       "6                           Dirty Harry\n",
       "                     ...               \n",
       "5800        Momshies! Your Soul is Mine\n",
       "5801                          Fine Wine\n",
       "5802                     Edis Starlight\n",
       "5803                              Clash\n",
       "5804                     Shadow Parties\n",
       "Name: title, Length: 3759, dtype: object"
      ]
     },
     "execution_count": 7,
     "metadata": {},
     "output_type": "execute_result"
    }
   ],
   "source": [
    "movie =data_df[data_df.type == 'MOVIE']['title']\n",
    "movie"
   ]
  },
  {
   "cell_type": "code",
   "execution_count": 8,
   "id": "03d820e5",
   "metadata": {},
   "outputs": [
    {
     "name": "stdout",
     "output_type": "stream",
     "text": [
      "The dataset has 3758 movies\n"
     ]
    },
    {
     "data": {
      "text/plain": [
       "1                                   Taxi Driver\n",
       "2               Monty Python and the Holy Grail\n",
       "3                                 Life of Brian\n",
       "4                                  The Exorcist\n",
       "6                                   Dirty Harry\n",
       "7                                  My Fair Lady\n",
       "8                               The Blue Lagoon\n",
       "9                              Bonnie and Clyde\n",
       "10                            The Professionals\n",
       "11                         The Guns of Navarone\n",
       "12    Lupin the Third: The Castle of Cagliostro\n",
       "13               Richard Pryor: Live in Concert\n",
       "14                              The Long Riders\n",
       "15                              White Christmas\n",
       "16                                Cairo Station\n",
       "17                                    The Queen\n",
       "18                             Hitler: A Career\n",
       "19                                          FTA\n",
       "20                       Saladin the Victorious\n",
       "21                                    Singapore\n",
       "Name: title, dtype: object"
      ]
     },
     "execution_count": 8,
     "metadata": {},
     "output_type": "execute_result"
    }
   ],
   "source": [
    "print('The dataset has',movie.count(),'movies')\n",
    "movie.head(20)"
   ]
  },
  {
   "cell_type": "markdown",
   "id": "1b548ad3",
   "metadata": {},
   "source": [
    "# 2. How many show are in the dataset and list the titles?"
   ]
  },
  {
   "cell_type": "code",
   "execution_count": 9,
   "id": "5c6dfa83",
   "metadata": {},
   "outputs": [
    {
     "name": "stdout",
     "output_type": "stream",
     "text": [
      "The dataset has 2047 shows\n"
     ]
    },
    {
     "data": {
      "text/plain": [
       "0      Five Came Back: The Reference Films\n",
       "5             Monty Python's Flying Circus\n",
       "29        Monty Python's Fliegender Zirkus\n",
       "47                                Seinfeld\n",
       "55                            Knight Rider\n",
       "57                        Thomas & Friends\n",
       "60                       Saved by the Bell\n",
       "64                        Wheel of Fortune\n",
       "65                               Major Dad\n",
       "66                             Fireman Sam\n",
       "67                            Danger Mouse\n",
       "98                               High Risk\n",
       "105                               Survivor\n",
       "106                          Stargate SG-1\n",
       "107                                Pokémon\n",
       "110                              One Piece\n",
       "112                           Cowboy Bebop\n",
       "113             Star Trek: Deep Space Nine\n",
       "114                          The Challenge\n",
       "116                          Gilmore Girls\n",
       "Name: title, dtype: object"
      ]
     },
     "execution_count": 9,
     "metadata": {},
     "output_type": "execute_result"
    }
   ],
   "source": [
    "show = data_df[data_df.type == 'SHOW']['title']\n",
    "print('The dataset has',show.count(),'shows')\n",
    "show.head(20)"
   ]
  },
  {
   "cell_type": "markdown",
   "id": "f8567d06",
   "metadata": {},
   "source": [
    "# 3. Plot the distribution of movies/shows"
   ]
  },
  {
   "cell_type": "code",
   "execution_count": 10,
   "id": "2d693c75",
   "metadata": {},
   "outputs": [
    {
     "data": {
      "image/png": "[encoded data removed]",
      "text/plain": [
       "<Figure size 700x420 with 1 Axes>"
      ]
     },
     "metadata": {
      "needs_background": "light"
     },
     "output_type": "display_data"
    }
   ],
   "source": [
    "plt.figure(figsize=(10,6),dpi = 70)\n",
    "plt.title('Distribution of Movies and Shows')\n",
    "sns.countplot(data= data_df,x = 'type')\n",
    "plt.xlabel('Type')\n",
    "plt.ylabel('Count');"
   ]
  },
  {
   "cell_type": "markdown",
   "id": "e0eafa61",
   "metadata": {},
   "source": [
    "# 4. How many movies/shows are released each year?"
   ]
  },
  {
   "cell_type": "code",
   "execution_count": 11,
   "id": "c094301d",
   "metadata": {},
   "outputs": [
    {
     "data": {
      "image/png": "[encoded data removed]",
      "text/plain": [
       "<Figure size 960x480 with 1 Axes>"
      ]
     },
     "metadata": {
      "needs_background": "light"
     },
     "output_type": "display_data"
    }
   ],
   "source": [
    "plt.figure(figsize=(12,6),dpi = 80)\n",
    "sns.histplot(data= data_df,x = 'release_year');"
   ]
  },
  {
   "cell_type": "markdown",
   "id": "bc036eb2",
   "metadata": {},
   "source": [
    "# 5. How many moveis was released in 1976?\n"
   ]
  },
  {
   "cell_type": "code",
   "execution_count": 12,
   "id": "e3f3dd73",
   "metadata": {},
   "outputs": [
    {
     "name": "stdout",
     "output_type": "stream",
     "text": [
      "The total 4  movies released in 1976\n"
     ]
    },
    {
     "data": {
      "text/html": [
       "<div>\n",
       "<style scoped>\n",
       "    .dataframe tbody tr th:only-of-type {\n",
       "        vertical-align: middle;\n",
       "    }\n",
       "\n",
       "    .dataframe tbody tr th {\n",
       "        vertical-align: top;\n",
       "    }\n",
       "\n",
       "    .dataframe thead th {\n",
       "        text-align: right;\n",
       "    }\n",
       "</style>\n",
       "<table border=\"1\" class=\"dataframe\">\n",
       "  <thead>\n",
       "    <tr style=\"text-align: right;\">\n",
       "      <th></th>\n",
       "      <th>title</th>\n",
       "      <th>type</th>\n",
       "    </tr>\n",
       "  </thead>\n",
       "  <tbody>\n",
       "    <tr>\n",
       "      <th>1</th>\n",
       "      <td>Taxi Driver</td>\n",
       "      <td>MOVIE</td>\n",
       "    </tr>\n",
       "    <tr>\n",
       "      <th>30</th>\n",
       "      <td>The Return of the Prodigal Son</td>\n",
       "      <td>MOVIE</td>\n",
       "    </tr>\n",
       "    <tr>\n",
       "      <th>33</th>\n",
       "      <td>The Witness Who Didn't See Anything</td>\n",
       "      <td>MOVIE</td>\n",
       "    </tr>\n",
       "    <tr>\n",
       "      <th>43</th>\n",
       "      <td>Chadi Jawani Budhe Nu</td>\n",
       "      <td>MOVIE</td>\n",
       "    </tr>\n",
       "  </tbody>\n",
       "</table>\n",
       "</div>"
      ],
      "text/plain": [
       "                                  title   type\n",
       "1                           Taxi Driver  MOVIE\n",
       "30       The Return of the Prodigal Son  MOVIE\n",
       "33  The Witness Who Didn't See Anything  MOVIE\n",
       "43                Chadi Jawani Budhe Nu  MOVIE"
      ]
     },
     "execution_count": 12,
     "metadata": {},
     "output_type": "execute_result"
    }
   ],
   "source": [
    "movies_in_1976 = data_df[data_df.release_year == 1976 ]\n",
    "movies_in_1976 = movies_in_1976[['title','type']]\n",
    "print('The total',movies_in_1976.title.count(),' movies released in 1976')\n",
    "movies_in_1976\n"
   ]
  },
  {
   "cell_type": "markdown",
   "id": "da3e0cb1",
   "metadata": {},
   "source": [
    "# 6.How many shows was released in 1945?"
   ]
  },
  {
   "cell_type": "code",
   "execution_count": 13,
   "id": "eb5f37a7",
   "metadata": {},
   "outputs": [
    {
     "name": "stdout",
     "output_type": "stream",
     "text": [
      "The total 1 shows released in 1945\n"
     ]
    },
    {
     "data": {
      "text/html": [
       "<div>\n",
       "<style scoped>\n",
       "    .dataframe tbody tr th:only-of-type {\n",
       "        vertical-align: middle;\n",
       "    }\n",
       "\n",
       "    .dataframe tbody tr th {\n",
       "        vertical-align: top;\n",
       "    }\n",
       "\n",
       "    .dataframe thead th {\n",
       "        text-align: right;\n",
       "    }\n",
       "</style>\n",
       "<table border=\"1\" class=\"dataframe\">\n",
       "  <thead>\n",
       "    <tr style=\"text-align: right;\">\n",
       "      <th></th>\n",
       "      <th>title</th>\n",
       "      <th>type</th>\n",
       "    </tr>\n",
       "  </thead>\n",
       "  <tbody>\n",
       "    <tr>\n",
       "      <th>0</th>\n",
       "      <td>Five Came Back: The Reference Films</td>\n",
       "      <td>SHOW</td>\n",
       "    </tr>\n",
       "  </tbody>\n",
       "</table>\n",
       "</div>"
      ],
      "text/plain": [
       "                                 title  type\n",
       "0  Five Came Back: The Reference Films  SHOW"
      ]
     },
     "execution_count": 13,
     "metadata": {},
     "output_type": "execute_result"
    }
   ],
   "source": [
    "shows_in_1945 = data_df[data_df.release_year==1945][['title','type']]\n",
    "print('The total',shows_in_1945.title.count(),'shows released in 1945')\n",
    "shows_in_1945"
   ]
  },
  {
   "cell_type": "markdown",
   "id": "9ed6f5ef",
   "metadata": {},
   "source": [
    "# 7. Which Movies is the longest and which one is the shortest?"
   ]
  },
  {
   "cell_type": "code",
   "execution_count": 14,
   "id": "3dcda6a4",
   "metadata": {},
   "outputs": [
    {
     "name": "stderr",
     "output_type": "stream",
     "text": [
      "C:\\Users\\Mohit Bhilwara\\AppData\\Local\\Temp\\ipykernel_10752\\241409406.py:2: FutureWarning: Dropping of nuisance columns in DataFrame reductions (with 'numeric_only=None') is deprecated; in a future version this will raise TypeError.  Select only valid columns before calling the reduction.\n",
      "  Movies_runtime.max()\n"
     ]
    },
    {
     "data": {
      "text/plain": [
       "type       MOVIE\n",
       "runtime      251\n",
       "dtype: object"
      ]
     },
     "execution_count": 14,
     "metadata": {},
     "output_type": "execute_result"
    }
   ],
   "source": [
    "Movies_runtime = data_df[data_df.type == 'MOVIE'][['type','runtime','title']]\n",
    "Movies_runtime.max()\n",
    "\n",
    "\n"
   ]
  },
  {
   "cell_type": "code",
   "execution_count": 15,
   "id": "3d38f3d8",
   "metadata": {},
   "outputs": [
    {
     "data": {
      "text/plain": [
       "34    The School of Mischief\n",
       "Name: title, dtype: object"
      ]
     },
     "execution_count": 15,
     "metadata": {},
     "output_type": "execute_result"
    }
   ],
   "source": [
    "longest_movie = data_df[data_df.runtime == 251]['title']\n",
    "longest_movie\n",
    "# print('The longest movies is',longest_movie)"
   ]
  },
  {
   "cell_type": "code",
   "execution_count": 17,
   "id": "1327bdf2",
   "metadata": {},
   "outputs": [
    {
     "data": {
      "text/plain": [
       "id                                                               tm188894\n",
       "title                                              The School of Mischief\n",
       "type                                                                MOVIE\n",
       "description             This play is about a female teacher and how sh...\n",
       "release_year                                                         1973\n",
       "age_certification                                                     NaN\n",
       "runtime                                                               251\n",
       "genres                                                         ['comedy']\n",
       "production_countries                                               ['EG']\n",
       "seasons                                                               NaN\n",
       "imdb_id                                                               NaN\n",
       "imdb_score                                                            NaN\n",
       "imdb_votes                                                            NaN\n",
       "tmdb_popularity                                                     3.381\n",
       "tmdb_score                                                            8.5\n",
       "Name: 34, dtype: object"
      ]
     },
     "execution_count": 17,
     "metadata": {},
     "output_type": "execute_result"
    }
   ],
   "source": [
    "data_df.loc[34]"
   ]
  },
  {
   "cell_type": "code",
   "execution_count": null,
   "id": "a100c9f1",
   "metadata": {},
   "outputs": [],
   "source": []
  }
 ],
 "metadata": {
  "kernelspec": {
   "display_name": "Python 3 (ipykernel)",
   "language": "python",
   "name": "python3"
  },
  "language_info": {
   "codemirror_mode": {
    "name": "ipython",
    "version": 3
   },
   "file_extension": ".py",
   "mimetype": "text/x-python",
   "name": "python",
   "nbconvert_exporter": "python",
   "pygments_lexer": "ipython3",
   "version": "3.10.4"
  }
 },
 "nbformat": 4,
 "nbformat_minor": 5
}
